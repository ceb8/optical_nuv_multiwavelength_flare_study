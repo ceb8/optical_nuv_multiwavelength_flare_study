{
 "cells": [
  {
   "cell_type": "markdown",
   "id": "36f462cb",
   "metadata": {},
   "source": [
    "# Detrending Injected Light Curves\n",
    "\n",
    "We inject the synthetic flares into raw long cadence light curves, so they then need to be detrended just as we did with the original light curves. (See notebook [\\#1](01_Lightcurve_Detrending.ipynb))"
   ]
  },
  {
   "cell_type": "code",
   "execution_count": 1,
   "id": "cd9bb747",
   "metadata": {},
   "outputs": [],
   "source": [
    "import sys\n",
    "\n",
    "import numpy as np\n",
    "\n",
    "from astropy.table import Table, Column\n",
    "\n",
    "import matplotlib\n",
    "%matplotlib inline\n",
    "import matplotlib.pyplot as plt\n",
    "\n",
    "sys.path.append('../src')\n",
    "import detrend"
   ]
  },
  {
   "cell_type": "markdown",
   "id": "60f22442",
   "metadata": {},
   "source": [
    "## Long Cadence\n",
    "\n",
    "Because these light curves already exist in ecsv files, and we don't need to download them using lightkurve, I made a new function `longcad_redetrend_and_score` that does everything that `longcad_detrend_and_score` does, except starting with a light curve table rather than a KID and quarter.\n",
    "\n",
    "**Note:** This step takes some time to run (~15-30 min). It also will produce some warnings that can safely be ignored."
   ]
  },
  {
   "cell_type": "code",
   "execution_count": 3,
   "id": "91155d59",
   "metadata": {},
   "outputs": [],
   "source": [
    "lc_info_table = Table.read(\"../data_tables/kepler_longcad_info.ecsv\",format=\"ascii.ecsv\")\n",
    "lc_info_table.add_column(Column(name=\"injected_score\", dtype=float, length=len(lc_info_table)))"
   ]
  },
  {
   "cell_type": "code",
   "execution_count": 16,
   "id": "7873fbc6",
   "metadata": {
    "scrolled": true
   },
   "outputs": [
    {
     "name": "stderr",
     "output_type": "stream",
     "text": [
      "/home/ceb/miniconda3/envs/flares/lib/python3.8/site-packages/scipy/optimize/minpack.py:828: OptimizeWarning: Covariance of the parameters could not be estimated\n",
      "  warnings.warn('Covariance of the parameters could not be estimated',\n"
     ]
    }
   ],
   "source": [
    "for lc_row in lc_info_table:\n",
    "        \n",
    "    lc_table = Table.read(lc_row['injected_path'])\n",
    "    lc_table_new = detrend.longcad_redetrend_and_score(lc_table)\n",
    "    \n",
    "    lc_row[\"injected_score\"] = lc_table_new.meta['score']\n",
    "    lc_table_new.write(lc_row['injected_path'], format=\"ascii.ecsv\", overwrite=True)  "
   ]
  },
  {
   "cell_type": "code",
   "execution_count": 17,
   "id": "87beb99a",
   "metadata": {},
   "outputs": [],
   "source": [
    "lc_info_table.write(\"../data_tables/kepler_longcad_info.ecsv\",format=\"ascii.ecsv\", overwrite=True)"
   ]
  },
  {
   "cell_type": "code",
   "execution_count": null,
   "id": "2a86ff1c",
   "metadata": {},
   "outputs": [],
   "source": []
  }
 ],
 "metadata": {
  "kernelspec": {
   "display_name": "Python 3",
   "language": "python",
   "name": "python3"
  },
  "language_info": {
   "codemirror_mode": {
    "name": "ipython",
    "version": 3
   },
   "file_extension": ".py",
   "mimetype": "text/x-python",
   "name": "python",
   "nbconvert_exporter": "python",
   "pygments_lexer": "ipython3",
   "version": "3.8.11"
  }
 },
 "nbformat": 4,
 "nbformat_minor": 5
}
